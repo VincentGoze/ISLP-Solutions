{
 "cells": [
  {
   "cell_type": "code",
   "execution_count": 62,
   "id": "2972b673-2ab4-4f39-a2b7-228a661826b2",
   "metadata": {},
   "outputs": [],
   "source": [
    "from matplotlib.pyplot import subplots\n",
    "import numpy as np\n",
    "import pandas as pd\n",
    "import statsmodels.api as sm\n",
    "from ISLP import load_data\n",
    "from ISLP.models import (ModelSpec as MS,\n",
    "                         summarize,\n",
    "                         poly)\n",
    "from sklearn.model_selection import train_test_split\n",
    "from sklearn.linear_model import LogisticRegression, LinearRegression\n"
   ]
  },
  {
   "cell_type": "code",
   "execution_count": 2,
   "id": "8336adb8-53a0-4585-9bda-6450db667188",
   "metadata": {},
   "outputs": [],
   "source": [
    "from functools import partial\n",
    "from sklearn.model_selection import \\\n",
    "     (cross_validate,\n",
    "      KFold,\n",
    "      ShuffleSplit)\n",
    "from sklearn.base import clone\n",
    "from ISLP.models import sklearn_sm"
   ]
  },
  {
   "cell_type": "markdown",
   "id": "df4005d2-e7f5-4951-ad2c-307db5205d78",
   "metadata": {},
   "source": [
    "## Exercise 2"
   ]
  },
  {
   "cell_type": "code",
   "execution_count": 2,
   "id": "1e2a5439-8149-40f5-b8ef-bddab4733ecd",
   "metadata": {},
   "outputs": [
    {
     "data": {
      "text/plain": [
       "[<matplotlib.lines.Line2D at 0x27b93427290>]"
      ]
     },
     "execution_count": 2,
     "metadata": {},
     "output_type": "execute_result"
    },
    {
     "data": {
      "image/png": "[encoded data removed]",
      "text/plain": [
       "<Figure size 800x800 with 1 Axes>"
      ]
     },
     "metadata": {},
     "output_type": "display_data"
    }
   ],
   "source": [
    "ax = subplots(figsize=(8,8))[1] \n",
    "A=np.arange(1,100000)\n",
    "ax.plot(A, 1-(1-1/A)**A) #converges to 1-e^(-1) "
   ]
  },
  {
   "cell_type": "code",
   "execution_count": 14,
   "id": "d8964631-34a9-440f-861d-4b776d7f0eed",
   "metadata": {},
   "outputs": [
    {
     "data": {
      "text/plain": [
       "0.6362"
      ]
     },
     "execution_count": 14,
     "metadata": {},
     "output_type": "execute_result"
    }
   ],
   "source": [
    "rng = np.random.default_rng (10)\n",
    "store = np.empty (10000)\n",
    "for i in range (10000):\n",
    "    store[i] = np.sum(rng.choice(100, size=100, replace=True) == 4) > 0\n",
    "np.mean(store) # we are close to the value 1-e^(-1)"
   ]
  },
  {
   "cell_type": "markdown",
   "id": "e19e5adc-bc10-414d-b95a-f4727bf73279",
   "metadata": {},
   "source": [
    "## Exercise 5"
   ]
  },
  {
   "cell_type": "code",
   "execution_count": 49,
   "id": "cf9e4a89-3be5-4bd0-97d9-bf136b22d34e",
   "metadata": {},
   "outputs": [
    {
     "data": {
      "text/html": [
       "<div>\n",
       "<style scoped>\n",
       "    .dataframe tbody tr th:only-of-type {\n",
       "        vertical-align: middle;\n",
       "    }\n",
       "\n",
       "    .dataframe tbody tr th {\n",
       "        vertical-align: top;\n",
       "    }\n",
       "\n",
       "    .dataframe thead th {\n",
       "        text-align: right;\n",
       "    }\n",
       "</style>\n",
       "<table border=\"1\" class=\"dataframe\">\n",
       "  <thead>\n",
       "    <tr style=\"text-align: right;\">\n",
       "      <th></th>\n",
       "      <th>default</th>\n",
       "      <th>student</th>\n",
       "      <th>balance</th>\n",
       "      <th>income</th>\n",
       "      <th>student1</th>\n",
       "    </tr>\n",
       "  </thead>\n",
       "  <tbody>\n",
       "    <tr>\n",
       "      <th>0</th>\n",
       "      <td>No</td>\n",
       "      <td>No</td>\n",
       "      <td>729.526495</td>\n",
       "      <td>44361.625074</td>\n",
       "      <td>False</td>\n",
       "    </tr>\n",
       "    <tr>\n",
       "      <th>1</th>\n",
       "      <td>No</td>\n",
       "      <td>Yes</td>\n",
       "      <td>817.180407</td>\n",
       "      <td>12106.134700</td>\n",
       "      <td>True</td>\n",
       "    </tr>\n",
       "    <tr>\n",
       "      <th>2</th>\n",
       "      <td>No</td>\n",
       "      <td>No</td>\n",
       "      <td>1073.549164</td>\n",
       "      <td>31767.138947</td>\n",
       "      <td>False</td>\n",
       "    </tr>\n",
       "    <tr>\n",
       "      <th>3</th>\n",
       "      <td>No</td>\n",
       "      <td>No</td>\n",
       "      <td>529.250605</td>\n",
       "      <td>35704.493935</td>\n",
       "      <td>False</td>\n",
       "    </tr>\n",
       "    <tr>\n",
       "      <th>4</th>\n",
       "      <td>No</td>\n",
       "      <td>No</td>\n",
       "      <td>785.655883</td>\n",
       "      <td>38463.495879</td>\n",
       "      <td>False</td>\n",
       "    </tr>\n",
       "    <tr>\n",
       "      <th>...</th>\n",
       "      <td>...</td>\n",
       "      <td>...</td>\n",
       "      <td>...</td>\n",
       "      <td>...</td>\n",
       "      <td>...</td>\n",
       "    </tr>\n",
       "    <tr>\n",
       "      <th>9995</th>\n",
       "      <td>No</td>\n",
       "      <td>No</td>\n",
       "      <td>711.555020</td>\n",
       "      <td>52992.378914</td>\n",
       "      <td>False</td>\n",
       "    </tr>\n",
       "    <tr>\n",
       "      <th>9996</th>\n",
       "      <td>No</td>\n",
       "      <td>No</td>\n",
       "      <td>757.962918</td>\n",
       "      <td>19660.721768</td>\n",
       "      <td>False</td>\n",
       "    </tr>\n",
       "    <tr>\n",
       "      <th>9997</th>\n",
       "      <td>No</td>\n",
       "      <td>No</td>\n",
       "      <td>845.411989</td>\n",
       "      <td>58636.156984</td>\n",
       "      <td>False</td>\n",
       "    </tr>\n",
       "    <tr>\n",
       "      <th>9998</th>\n",
       "      <td>No</td>\n",
       "      <td>No</td>\n",
       "      <td>1569.009053</td>\n",
       "      <td>36669.112365</td>\n",
       "      <td>False</td>\n",
       "    </tr>\n",
       "    <tr>\n",
       "      <th>9999</th>\n",
       "      <td>No</td>\n",
       "      <td>Yes</td>\n",
       "      <td>200.922183</td>\n",
       "      <td>16862.952321</td>\n",
       "      <td>True</td>\n",
       "    </tr>\n",
       "  </tbody>\n",
       "</table>\n",
       "<p>10000 rows × 5 columns</p>\n",
       "</div>"
      ],
      "text/plain": [
       "     default student      balance        income  student1\n",
       "0         No      No   729.526495  44361.625074     False\n",
       "1         No     Yes   817.180407  12106.134700      True\n",
       "2         No      No  1073.549164  31767.138947     False\n",
       "3         No      No   529.250605  35704.493935     False\n",
       "4         No      No   785.655883  38463.495879     False\n",
       "...      ...     ...          ...           ...       ...\n",
       "9995      No      No   711.555020  52992.378914     False\n",
       "9996      No      No   757.962918  19660.721768     False\n",
       "9997      No      No   845.411989  58636.156984     False\n",
       "9998      No      No  1569.009053  36669.112365     False\n",
       "9999      No     Yes   200.922183  16862.952321      True\n",
       "\n",
       "[10000 rows x 5 columns]"
      ]
     },
     "execution_count": 49,
     "metadata": {},
     "output_type": "execute_result"
    }
   ],
   "source": [
    "Default=load_data(\"Default\")\n",
    "Default[\"student1\"]=Default.student==\"Yes\"\n",
    "Default"
   ]
  },
  {
   "cell_type": "code",
   "execution_count": 50,
   "id": "612a9704-6967-423e-a0cc-92328d333a77",
   "metadata": {},
   "outputs": [],
   "source": [
    "x=Default[['balance','income']]\n",
    "x2=Default[['balance','income','student1']]"
   ]
  },
  {
   "cell_type": "code",
   "execution_count": 11,
   "id": "e118a949-8c21-4fca-83ef-7fd6f0530b08",
   "metadata": {},
   "outputs": [],
   "source": [
    "y=Default.default"
   ]
  },
  {
   "cell_type": "code",
   "execution_count": 36,
   "id": "ebfd2257-c8ac-43f3-80f7-45786eed4808",
   "metadata": {},
   "outputs": [],
   "source": [
    "(x_train,\n",
    " x_test,\n",
    " y_train,\n",
    " y_test) = train_test_split(x,\n",
    "                            y,\n",
    "                            test_size=0.5,\n",
    "                            random_state=1)"
   ]
  },
  {
   "cell_type": "code",
   "execution_count": 42,
   "id": "3d9ef8a9-7127-4be9-acb0-48aede4afae2",
   "metadata": {},
   "outputs": [
    {
     "name": "stdout",
     "output_type": "stream",
     "text": [
      "0.029\n",
      "0.025\n",
      "0.0248\n",
      "0.0248\n"
     ]
    }
   ],
   "source": [
    "for i in range(4):\n",
    "    (x_train,\n",
    "     x_test,\n",
    "     y_train,\n",
    "     y_test) = train_test_split(x,\n",
    "                                y,\n",
    "                                test_size=0.5,\n",
    "                                random_state=i)\n",
    "    Log = LogisticRegression() \n",
    "    Log.fit(x_train,y_train) \n",
    "    results=Log.predict(x_test) #Default threshold is 0.5, we can access the probabilities via Log.predict_proba(x_test)  \n",
    "    print(np.mean(results!=y_test))"
   ]
  },
  {
   "cell_type": "code",
   "execution_count": 51,
   "id": "4bf31629-9087-41ef-a26a-8238f780409f",
   "metadata": {},
   "outputs": [
    {
     "name": "stdout",
     "output_type": "stream",
     "text": [
      "0.0294\n",
      "0.0262\n",
      "0.025\n",
      "0.0252\n"
     ]
    }
   ],
   "source": [
    "for i in range(4):\n",
    "    (x_train,\n",
    "     x_test,\n",
    "     y_train,\n",
    "     y_test) = train_test_split(x2,\n",
    "                                y,\n",
    "                                test_size=0.5,\n",
    "                                random_state=i)\n",
    "    Log = LogisticRegression() \n",
    "    Log.fit(x_train,y_train) \n",
    "    results=Log.predict(x_test) \n",
    "    print(np.mean(results!=y_test))"
   ]
  },
  {
   "cell_type": "code",
   "execution_count": 52,
   "id": "82117231-fea7-4f68-92de-31ad6e2a0303",
   "metadata": {},
   "outputs": [],
   "source": [
    "#The results are similar with or without the student variable"
   ]
  },
  {
   "cell_type": "markdown",
   "id": "dc3d2f6b-dc8e-4792-8486-6d639d89420b",
   "metadata": {},
   "source": [
    "## Exercise 6"
   ]
  },
  {
   "cell_type": "code",
   "execution_count": 67,
   "id": "b87688fa-5455-4699-8fea-8f04188a61da",
   "metadata": {},
   "outputs": [
    {
     "data": {
      "text/html": [
       "<table class=\"simpletable\">\n",
       "<caption>Generalized Linear Model Regression Results</caption>\n",
       "<tr>\n",
       "  <th>Dep. Variable:</th>        <td>default</td>     <th>  No. Observations:  </th>  <td> 10000</td> \n",
       "</tr>\n",
       "<tr>\n",
       "  <th>Model:</th>                  <td>GLM</td>       <th>  Df Residuals:      </th>  <td>  9997</td> \n",
       "</tr>\n",
       "<tr>\n",
       "  <th>Model Family:</th>        <td>Binomial</td>     <th>  Df Model:          </th>  <td>     2</td> \n",
       "</tr>\n",
       "<tr>\n",
       "  <th>Link Function:</th>         <td>Logit</td>      <th>  Scale:             </th> <td>  1.0000</td>\n",
       "</tr>\n",
       "<tr>\n",
       "  <th>Method:</th>                <td>IRLS</td>       <th>  Log-Likelihood:    </th> <td> -789.48</td>\n",
       "</tr>\n",
       "<tr>\n",
       "  <th>Date:</th>            <td>Fri, 17 May 2024</td> <th>  Deviance:          </th> <td>  1579.0</td>\n",
       "</tr>\n",
       "<tr>\n",
       "  <th>Time:</th>                <td>11:46:50</td>     <th>  Pearson chi2:      </th> <td>6.95e+03</td>\n",
       "</tr>\n",
       "<tr>\n",
       "  <th>No. Iterations:</th>          <td>9</td>        <th>  Pseudo R-squ. (CS):</th>  <td>0.1256</td> \n",
       "</tr>\n",
       "<tr>\n",
       "  <th>Covariance Type:</th>     <td>nonrobust</td>    <th>                     </th>     <td> </td>   \n",
       "</tr>\n",
       "</table>\n",
       "<table class=\"simpletable\">\n",
       "<tr>\n",
       "     <td></td>        <th>coef</th>     <th>std err</th>      <th>z</th>      <th>P>|z|</th>  <th>[0.025</th>    <th>0.975]</th>  \n",
       "</tr>\n",
       "<tr>\n",
       "  <th>const</th>   <td>  -11.5405</td> <td>    0.435</td> <td>  -26.544</td> <td> 0.000</td> <td>  -12.393</td> <td>  -10.688</td>\n",
       "</tr>\n",
       "<tr>\n",
       "  <th>balance</th> <td>    0.0056</td> <td>    0.000</td> <td>   24.835</td> <td> 0.000</td> <td>    0.005</td> <td>    0.006</td>\n",
       "</tr>\n",
       "<tr>\n",
       "  <th>income</th>  <td> 2.081e-05</td> <td> 4.99e-06</td> <td>    4.174</td> <td> 0.000</td> <td>  1.1e-05</td> <td> 3.06e-05</td>\n",
       "</tr>\n",
       "</table>"
      ],
      "text/latex": [
       "\\begin{center}\n",
       "\\begin{tabular}{lclc}\n",
       "\\toprule\n",
       "\\textbf{Dep. Variable:}   &     default      & \\textbf{  No. Observations:  } &    10000    \\\\\n",
       "\\textbf{Model:}           &       GLM        & \\textbf{  Df Residuals:      } &     9997    \\\\\n",
       "\\textbf{Model Family:}    &     Binomial     & \\textbf{  Df Model:          } &        2    \\\\\n",
       "\\textbf{Link Function:}   &      Logit       & \\textbf{  Scale:             } &    1.0000   \\\\\n",
       "\\textbf{Method:}          &       IRLS       & \\textbf{  Log-Likelihood:    } &   -789.48   \\\\\n",
       "\\textbf{Date:}            & Fri, 17 May 2024 & \\textbf{  Deviance:          } &    1579.0   \\\\\n",
       "\\textbf{Time:}            &     11:46:50     & \\textbf{  Pearson chi2:      } &  6.95e+03   \\\\\n",
       "\\textbf{No. Iterations:}  &        9         & \\textbf{  Pseudo R-squ. (CS):} &   0.1256    \\\\\n",
       "\\textbf{Covariance Type:} &    nonrobust     & \\textbf{                     } &             \\\\\n",
       "\\bottomrule\n",
       "\\end{tabular}\n",
       "\\begin{tabular}{lcccccc}\n",
       "                 & \\textbf{coef} & \\textbf{std err} & \\textbf{z} & \\textbf{P$> |$z$|$} & \\textbf{[0.025} & \\textbf{0.975]}  \\\\\n",
       "\\midrule\n",
       "\\textbf{const}   &     -11.5405  &        0.435     &   -26.544  &         0.000        &      -12.393    &      -10.688     \\\\\n",
       "\\textbf{balance} &       0.0056  &        0.000     &    24.835  &         0.000        &        0.005    &        0.006     \\\\\n",
       "\\textbf{income}  &    2.081e-05  &     4.99e-06     &     4.174  &         0.000        &      1.1e-05    &     3.06e-05     \\\\\n",
       "\\bottomrule\n",
       "\\end{tabular}\n",
       "%\\caption{Generalized Linear Model Regression Results}\n",
       "\\end{center}"
      ],
      "text/plain": [
       "<class 'statsmodels.iolib.summary.Summary'>\n",
       "\"\"\"\n",
       "                 Generalized Linear Model Regression Results                  \n",
       "==============================================================================\n",
       "Dep. Variable:                default   No. Observations:                10000\n",
       "Model:                            GLM   Df Residuals:                     9997\n",
       "Model Family:                Binomial   Df Model:                            2\n",
       "Link Function:                  Logit   Scale:                          1.0000\n",
       "Method:                          IRLS   Log-Likelihood:                -789.48\n",
       "Date:                Fri, 17 May 2024   Deviance:                       1579.0\n",
       "Time:                        11:46:50   Pearson chi2:                 6.95e+03\n",
       "No. Iterations:                     9   Pseudo R-squ. (CS):             0.1256\n",
       "Covariance Type:            nonrobust                                         \n",
       "==============================================================================\n",
       "                 coef    std err          z      P>|z|      [0.025      0.975]\n",
       "------------------------------------------------------------------------------\n",
       "const        -11.5405      0.435    -26.544      0.000     -12.393     -10.688\n",
       "balance        0.0056      0.000     24.835      0.000       0.005       0.006\n",
       "income      2.081e-05   4.99e-06      4.174      0.000     1.1e-05    3.06e-05\n",
       "==============================================================================\n",
       "\"\"\""
      ]
     },
     "execution_count": 67,
     "metadata": {},
     "output_type": "execute_result"
    }
   ],
   "source": [
    "xc=sm.add_constant(x)\n",
    "y2=y==\"Yes\"\n",
    "glm = sm.GLM(y2,  xc,family=sm.families.Binomial())\n",
    "results = glm.fit()\n",
    "results.summary()"
   ]
  },
  {
   "cell_type": "code",
   "execution_count": 85,
   "id": "4564a667-0aa8-4029-b99d-85dc9b4903a0",
   "metadata": {
    "jp-MarkdownHeadingCollapsed": true
   },
   "outputs": [],
   "source": [
    "def boot_fn(df,idx):\n",
    "    x3=sm.add_constant(Default[['income','balance']].iloc[idx])\n",
    "    y3=y.iloc[idx]==\"Yes\"\n",
    "    glm = sm.GLM(y3,  x3,family=sm.families.Binomial())\n",
    "    results = glm.fit()\n",
    "    return results.params\n",
    "    \n",
    "    "
   ]
  },
  {
   "cell_type": "code",
   "execution_count": 115,
   "id": "73612f6c-25bc-473b-9146-635d342c20cf",
   "metadata": {},
   "outputs": [],
   "source": [
    "def indexes_gen(i):\n",
    "    rng = np.random.default_rng(i)\n",
    "    return(rng.choice(Default.shape[0],Default.shape[0],replace=True))"
   ]
  },
  {
   "cell_type": "code",
   "execution_count": 136,
   "id": "970dc41d-f9bc-4410-99ad-779be73f21bc",
   "metadata": {},
   "outputs": [],
   "source": [
    "estimate1=1000*[0]\n",
    "estimate0=1000*[0]\n",
    "estimate2=1000*[0]\n",
    "for i in range(1000):\n",
    "    I=indexes_gen(i)\n",
    "    estimate0[i],estimate1[i],estimate2[i]=boot_fn(Default,I)\n",
    "    \n"
   ]
  },
  {
   "cell_type": "code",
   "execution_count": 137,
   "id": "ff56a002-2055-40ae-a4e7-ff7e1cb18de7",
   "metadata": {},
   "outputs": [
    {
     "data": {
      "text/plain": [
       "-11.599221788148165"
      ]
     },
     "execution_count": 137,
     "metadata": {},
     "output_type": "execute_result"
    }
   ],
   "source": [
    "np.mean(estimate0)"
   ]
  },
  {
   "cell_type": "code",
   "execution_count": 138,
   "id": "485d834a-fd8e-4ef9-b03f-ebd84178b9b2",
   "metadata": {},
   "outputs": [
    {
     "data": {
      "text/plain": [
       "0.4409865570124455"
      ]
     },
     "execution_count": 138,
     "metadata": {},
     "output_type": "execute_result"
    }
   ],
   "source": [
    "np.sqrt(sum((np.asarray(estimate0)-np.mean(estimate0))**2)/(1000-1))"
   ]
  },
  {
   "cell_type": "code",
   "execution_count": 139,
   "id": "0313d496-318e-4722-9741-db46899ca3c5",
   "metadata": {},
   "outputs": [
    {
     "data": {
      "text/plain": [
       "2.1092285173232834e-05"
      ]
     },
     "execution_count": 139,
     "metadata": {},
     "output_type": "execute_result"
    }
   ],
   "source": [
    "np.mean(estimate1)"
   ]
  },
  {
   "cell_type": "code",
   "execution_count": 140,
   "id": "14be1218-810a-41c4-a9b3-9220ead779ab",
   "metadata": {},
   "outputs": [
    {
     "data": {
      "text/plain": [
       "4.838978962543956e-06"
      ]
     },
     "execution_count": 140,
     "metadata": {},
     "output_type": "execute_result"
    }
   ],
   "source": [
    "np.sqrt(sum((np.asarray(estimate1)-np.mean(estimate1))**2)/(1000-1))"
   ]
  },
  {
   "cell_type": "code",
   "execution_count": 141,
   "id": "3365f112-03ee-4a25-904e-f92cb30e60bb",
   "metadata": {},
   "outputs": [
    {
     "data": {
      "text/plain": [
       "0.00567535063845724"
      ]
     },
     "execution_count": 141,
     "metadata": {},
     "output_type": "execute_result"
    }
   ],
   "source": [
    "np.mean(estimate2)"
   ]
  },
  {
   "cell_type": "code",
   "execution_count": 142,
   "id": "175b2327-347d-47f7-ab97-6568bc79e74f",
   "metadata": {},
   "outputs": [
    {
     "data": {
      "text/plain": [
       "0.00023113065539271955"
      ]
     },
     "execution_count": 142,
     "metadata": {},
     "output_type": "execute_result"
    }
   ],
   "source": [
    "np.sqrt(sum((np.asarray(estimate2)-np.mean(estimate2))**2)/(1000-1))"
   ]
  },
  {
   "cell_type": "code",
   "execution_count": 143,
   "id": "84de1232-3449-46dd-8e11-8410d1f0e840",
   "metadata": {},
   "outputs": [],
   "source": [
    "#The results are pretty similar"
   ]
  },
  {
   "cell_type": "markdown",
   "id": "f4cba955-1057-4d60-9cdd-d7ca46518970",
   "metadata": {},
   "source": [
    "## Exercise 7"
   ]
  },
  {
   "cell_type": "code",
   "execution_count": 144,
   "id": "93026ad6-52aa-4be0-805e-c779b31bf7ef",
   "metadata": {},
   "outputs": [],
   "source": [
    "Weekly=load_data(\"Weekly\")"
   ]
  },
  {
   "cell_type": "code",
   "execution_count": 160,
   "id": "51eee200-6f5f-412b-bada-4cd6aed1c9fe",
   "metadata": {},
   "outputs": [],
   "source": [
    "x=Weekly[[\"Lag1\",\"Lag2\"]]\n",
    "y=Weekly.Direction"
   ]
  },
  {
   "cell_type": "code",
   "execution_count": 156,
   "id": "a8c0d07a-b0d9-4973-bd21-f81ebc89f412",
   "metadata": {},
   "outputs": [
    {
     "name": "stdout",
     "output_type": "stream",
     "text": [
      "[0.22122423] [[-0.03869725  0.06020635]]\n"
     ]
    }
   ],
   "source": [
    "Log = LogisticRegression() #Acces coefficients with Log.coef_ and Log.intercept_: https://scikit-learn.org/stable/modules/generated/sklearn.linear_model.LogisticRegression.html\n",
    "Log.fit(x,y) \n",
    "print(Log.intercept_,Log.coef_)"
   ]
  },
  {
   "cell_type": "code",
   "execution_count": 165,
   "id": "fbe60c05-e13c-4b63-a0e7-babf280791c4",
   "metadata": {},
   "outputs": [],
   "source": [
    "x2=Weekly[[\"Lag1\",\"Lag2\"]].iloc[1:]\n",
    "y2=Weekly.Direction.iloc[1:]"
   ]
  },
  {
   "cell_type": "code",
   "execution_count": 166,
   "id": "ed946784-d885-41df-a94c-4312b42cd45c",
   "metadata": {},
   "outputs": [
    {
     "name": "stdout",
     "output_type": "stream",
     "text": [
      "[0.22324303] [[-0.03840843  0.06080518]]\n"
     ]
    }
   ],
   "source": [
    "Log2 = LogisticRegression() \n",
    "Log2.fit(x2,y2) \n",
    "print(Log2.intercept_,Log2.coef_)"
   ]
  },
  {
   "cell_type": "code",
   "execution_count": 184,
   "id": "26096d15-b327-4254-8cda-5653755b2a11",
   "metadata": {},
   "outputs": [
    {
     "data": {
      "text/plain": [
       "array(['Up'], dtype=object)"
      ]
     },
     "execution_count": 184,
     "metadata": {},
     "output_type": "execute_result"
    }
   ],
   "source": [
    "Log2.predict(x.loc[0:0])"
   ]
  },
  {
   "cell_type": "code",
   "execution_count": 189,
   "id": "f9f6f5eb-1098-4790-a1d4-9056d41dd6a8",
   "metadata": {},
   "outputs": [
    {
     "data": {
      "text/plain": [
       "'Down'"
      ]
     },
     "execution_count": 189,
     "metadata": {},
     "output_type": "execute_result"
    }
   ],
   "source": [
    "Weekly.loc[0].Direction #The observation is not correctly classified"
   ]
  },
  {
   "cell_type": "code",
   "execution_count": 203,
   "id": "bb0b3194-f030-44d4-8f36-bcf93275b20c",
   "metadata": {},
   "outputs": [],
   "source": [
    "results=[]\n",
    "for i in range(1089):\n",
    "    xi=x.drop(index=i)\n",
    "    yi=y.drop(index=i)\n",
    "    Logi = LogisticRegression() \n",
    "    Logi.fit(xi,yi) \n",
    "    res=Logi.predict(x.loc[i:i])\n",
    "    results.append((res==y.loc[i])[0])\n",
    "    \n",
    "    \n",
    "    "
   ]
  },
  {
   "cell_type": "code",
   "execution_count": 206,
   "id": "1868040a-7996-4e94-86f1-0ad6e589f5c0",
   "metadata": {},
   "outputs": [
    {
     "data": {
      "text/plain": [
       "0.5500459136822773"
      ]
     },
     "execution_count": 206,
     "metadata": {},
     "output_type": "execute_result"
    }
   ],
   "source": [
    "np.mean(results) #The LOOCV is about 45%, almost the same as what we did in Chapter 4"
   ]
  },
  {
   "cell_type": "markdown",
   "id": "511fcfa0-a0e9-4bf5-afe5-d42abf7e1007",
   "metadata": {},
   "source": [
    "## Exercise 8"
   ]
  },
  {
   "cell_type": "code",
   "execution_count": 4,
   "id": "9431ff70-d001-4105-847d-bbb86150cbc5",
   "metadata": {},
   "outputs": [],
   "source": [
    "rng = np.random.default_rng (1)\n",
    "x = rng.normal(size =100)\n",
    "y = x - 2 * x**2 + rng.normal(size =100) #n=100, p=1. y=f(x)+eps=x-2x^2+eps"
   ]
  },
  {
   "cell_type": "code",
   "execution_count": 11,
   "id": "9316d998-690c-4c0d-b1b4-21683da72c35",
   "metadata": {},
   "outputs": [
    {
     "data": {
      "image/png": "[encoded data removed]",
      "text/plain": [
       "<Figure size 800x800 with 1 Axes>"
      ]
     },
     "metadata": {},
     "output_type": "display_data"
    }
   ],
   "source": [
    "ax = subplots(figsize=(8,8))[1] \n",
    "ax.scatter(x,y);\n",
    "x2 = np.linspace(-2, 2, 400) \n",
    "y2= x2 - 2 * x2**2\n",
    "ax.plot(x2,y2);"
   ]
  },
  {
   "cell_type": "code",
   "execution_count": null,
   "id": "a562b49c-f097-41d1-aa4d-21ab38ed4712",
   "metadata": {},
   "outputs": [],
   "source": []
  },
  {
   "cell_type": "code",
   "execution_count": 75,
   "id": "ebd85cb7-55e0-49f1-8800-6766db572e8f",
   "metadata": {},
   "outputs": [],
   "source": [
    "df=pd.DataFrame({'X': x, 'Y': y})\n",
    "df['X2']=df['X']**2\n",
    "df['X3']=df['X']**3\n",
    "df['X4']=df['X']**4"
   ]
  },
  {
   "cell_type": "code",
   "execution_count": 71,
   "id": "cb3fc519-a01d-4e0d-8d63-fd6744e88de5",
   "metadata": {},
   "outputs": [
    {
     "data": {
      "text/plain": [
       "6.633029839181983"
      ]
     },
     "execution_count": 71,
     "metadata": {},
     "output_type": "execute_result"
    }
   ],
   "source": [
    "resultslist=[]\n",
    "x=df['X']\n",
    "y=df['Y']\n",
    "for i in range(100):\n",
    "    xi=x.drop(index=i)\n",
    "    yi=y.drop(index=i)\n",
    "    LR=LinearRegression()\n",
    "    LR.fit(xi.to_frame(),yi.to_frame()) \n",
    "    res=LR.predict(x.loc[i:i].to_frame())[0]\n",
    "    resultslist.append(((res-y.loc[i])[0])**2)\n",
    "np.mean(resultslist)"
   ]
  },
  {
   "cell_type": "code",
   "execution_count": 78,
   "id": "6aa1e416-d02f-48be-8a3a-492dd398b664",
   "metadata": {},
   "outputs": [
    {
     "data": {
      "text/plain": [
       "1.1229368563419677"
      ]
     },
     "execution_count": 78,
     "metadata": {},
     "output_type": "execute_result"
    }
   ],
   "source": [
    "resultslist=[]\n",
    "x=df[['X','X2']]\n",
    "y=df['Y']\n",
    "for i in range(100):\n",
    "    xi=x.drop(index=i)\n",
    "    yi=y.drop(index=i)\n",
    "    LR=LinearRegression()\n",
    "    LR.fit(xi,yi.to_frame()) \n",
    "    res=LR.predict(x.loc[i:i])[0]\n",
    "    resultslist.append(((res-y.loc[i])[0])**2)\n",
    "np.mean(resultslist)"
   ]
  },
  {
   "cell_type": "code",
   "execution_count": 79,
   "id": "0c96c2d2-a8a3-49ed-8c82-995137bfcaa0",
   "metadata": {},
   "outputs": [
    {
     "data": {
      "text/plain": [
       "1.3017965489358883"
      ]
     },
     "execution_count": 79,
     "metadata": {},
     "output_type": "execute_result"
    }
   ],
   "source": [
    "resultslist=[]\n",
    "x=df[['X','X2','X3']]\n",
    "y=df['Y']\n",
    "for i in range(100):\n",
    "    xi=x.drop(index=i)\n",
    "    yi=y.drop(index=i)\n",
    "    LR=LinearRegression()\n",
    "    LR.fit(xi,yi.to_frame()) \n",
    "    res=LR.predict(x.loc[i:i])[0]\n",
    "    resultslist.append(((res-y.loc[i])[0])**2)\n",
    "np.mean(resultslist)"
   ]
  },
  {
   "cell_type": "code",
   "execution_count": 80,
   "id": "d211a2e3-a52b-4ef0-96d5-ddbee4cb6f31",
   "metadata": {},
   "outputs": [
    {
     "data": {
      "text/plain": [
       "1.3323942694179352"
      ]
     },
     "execution_count": 80,
     "metadata": {},
     "output_type": "execute_result"
    }
   ],
   "source": [
    "resultslist=[]\n",
    "x=df[['X','X2','X3','X4']]\n",
    "y=df['Y']\n",
    "for i in range(100):\n",
    "    xi=x.drop(index=i)\n",
    "    yi=y.drop(index=i)\n",
    "    LR=LinearRegression()\n",
    "    LR.fit(xi,yi.to_frame()) \n",
    "    res=LR.predict(x.loc[i:i])[0]\n",
    "    resultslist.append(((res-y.loc[i])[0])**2)\n",
    "np.mean(resultslist)"
   ]
  },
  {
   "cell_type": "code",
   "execution_count": null,
   "id": "03436010-2639-445b-833d-c382cbb1a6ff",
   "metadata": {},
   "outputs": [],
   "source": []
  },
  {
   "cell_type": "code",
   "execution_count": 81,
   "id": "773e4b4b-6d7d-4547-af41-33d1becb1d47",
   "metadata": {},
   "outputs": [],
   "source": [
    "rng = np.random.default_rng (34)\n",
    "x = rng.normal(size =100)\n",
    "y = x - 2 * x**2 + rng.normal(size =100)"
   ]
  },
  {
   "cell_type": "code",
   "execution_count": 82,
   "id": "cf692d3f-cf2d-4bfb-aa90-c550d7d4cdcc",
   "metadata": {},
   "outputs": [],
   "source": [
    "df=pd.DataFrame({'X': x, 'Y': y})\n",
    "df['X2']=df['X']**2\n",
    "df['X3']=df['X']**3\n",
    "df['X4']=df['X']**4"
   ]
  },
  {
   "cell_type": "code",
   "execution_count": 83,
   "id": "b997e7a8-d2ad-461d-ac95-2b0500d4d03f",
   "metadata": {},
   "outputs": [
    {
     "data": {
      "text/plain": [
       "6.692400483962456"
      ]
     },
     "execution_count": 83,
     "metadata": {},
     "output_type": "execute_result"
    }
   ],
   "source": [
    "resultslist=[]\n",
    "x=df['X']\n",
    "y=df['Y']\n",
    "for i in range(100):\n",
    "    xi=x.drop(index=i)\n",
    "    yi=y.drop(index=i)\n",
    "    LR=LinearRegression()\n",
    "    LR.fit(xi.to_frame(),yi.to_frame()) \n",
    "    res=LR.predict(x.loc[i:i].to_frame())[0]\n",
    "    resultslist.append(((res-y.loc[i])[0])**2)\n",
    "np.mean(resultslist)"
   ]
  },
  {
   "cell_type": "code",
   "execution_count": 84,
   "id": "6eec7c5e-ed5f-4e8a-b6c3-ef18102ba5ca",
   "metadata": {},
   "outputs": [
    {
     "data": {
      "text/plain": [
       "0.9894344715661427"
      ]
     },
     "execution_count": 84,
     "metadata": {},
     "output_type": "execute_result"
    }
   ],
   "source": [
    "resultslist=[]\n",
    "x=df[['X','X2']]\n",
    "y=df['Y']\n",
    "for i in range(100):\n",
    "    xi=x.drop(index=i)\n",
    "    yi=y.drop(index=i)\n",
    "    LR=LinearRegression()\n",
    "    LR.fit(xi,yi.to_frame()) \n",
    "    res=LR.predict(x.loc[i:i])[0]\n",
    "    resultslist.append(((res-y.loc[i])[0])**2)\n",
    "np.mean(resultslist)"
   ]
  },
  {
   "cell_type": "code",
   "execution_count": 89,
   "id": "f35723c3-52d2-414b-8b19-e05c9432ff3f",
   "metadata": {},
   "outputs": [
    {
     "data": {
      "text/plain": [
       "1.0922044798083757"
      ]
     },
     "execution_count": 89,
     "metadata": {},
     "output_type": "execute_result"
    }
   ],
   "source": [
    "resultslist=[]\n",
    "x=df[['X','X2','X3']]\n",
    "y=df['Y']\n",
    "for i in range(100):\n",
    "    xi=x.drop(index=i)\n",
    "    yi=y.drop(index=i)\n",
    "    LR=LinearRegression()\n",
    "    a=LR.fit(xi,yi.to_frame()) \n",
    "    res=LR.predict(x.loc[i:i])[0]\n",
    "    resultslist.append(((res-y.loc[i])[0])**2)\n",
    "np.mean(resultslist)"
   ]
  },
  {
   "cell_type": "code",
   "execution_count": 95,
   "id": "6a5754f6-7898-45eb-aee7-24a5c06de0bf",
   "metadata": {},
   "outputs": [
    {
     "data": {
      "text/plain": [
       "1.044182309352764"
      ]
     },
     "execution_count": 95,
     "metadata": {},
     "output_type": "execute_result"
    }
   ],
   "source": [
    "resultslist=[]\n",
    "x=df[['X','X2','X3','X4']]\n",
    "y=df['Y']\n",
    "for i in range(100):\n",
    "    xi=x.drop(index=i)\n",
    "    yi=y.drop(index=i)\n",
    "    LR=LinearRegression()\n",
    "    LR.fit(xi,yi.to_frame()) \n",
    "    res=LR.predict(x.loc[i:i])[0]\n",
    "    resultslist.append(((res-y.loc[i])[0])**2)\n",
    "np.mean(resultslist)\n"
   ]
  },
  {
   "cell_type": "code",
   "execution_count": 87,
   "id": "e7b1df7d-7502-403b-b6e4-ca0a93807cf0",
   "metadata": {},
   "outputs": [],
   "source": [
    "#The results are similar but different because of the variance"
   ]
  },
  {
   "cell_type": "code",
   "execution_count": null,
   "id": "ef199b19-707f-4393-8756-cafe7369d97d",
   "metadata": {},
   "outputs": [],
   "source": []
  },
  {
   "cell_type": "code",
   "execution_count": 96,
   "id": "b61b9d0a-d8de-4f6a-918c-74c689597a16",
   "metadata": {},
   "outputs": [],
   "source": [
    "#Best model is the one of degree 2 because it matches the true behavior of f(X). "
   ]
  },
  {
   "cell_type": "code",
   "execution_count": 98,
   "id": "4f83605d-229f-4ae2-a2bb-8fd98679bcb9",
   "metadata": {},
   "outputs": [],
   "source": [
    "#We don't have p-values with scikit-learn but the p values for x^3 and x^4 would probably be high"
   ]
  },
  {
   "cell_type": "markdown",
   "id": "5a249711-11c8-4a8d-87ad-8668ae8cbce1",
   "metadata": {},
   "source": [
    "## Exercise 9"
   ]
  },
  {
   "cell_type": "code",
   "execution_count": 100,
   "id": "44c53513-bfb3-467a-aa00-fe898f5bbe42",
   "metadata": {},
   "outputs": [],
   "source": [
    "Boston=load_data(\"Boston\")"
   ]
  },
  {
   "cell_type": "code",
   "execution_count": 106,
   "id": "f11f5e1b-9b6a-4a0b-939d-bf8fc0f56524",
   "metadata": {},
   "outputs": [],
   "source": [
    "muhat=np.mean(Boston.medv)"
   ]
  },
  {
   "cell_type": "code",
   "execution_count": 110,
   "id": "e9ad9236-0cbf-4e87-bf06-7b2525e46fde",
   "metadata": {},
   "outputs": [
    {
     "data": {
      "text/plain": [
       "0.4084569346972866"
      ]
     },
     "execution_count": 110,
     "metadata": {},
     "output_type": "execute_result"
    }
   ],
   "source": [
    "semuhat=np.std(Boston.medv)/np.sqrt(506)\n",
    "semuhat"
   ]
  },
  {
   "cell_type": "code",
   "execution_count": 121,
   "id": "a9d5b748-810b-4cf6-9435-78643c6c1d54",
   "metadata": {},
   "outputs": [],
   "source": [
    "def boot_fn(df,idx):\n",
    "    return np.mean(Boston.medv[idx])\n",
    "\n",
    "def indexes_gen(i):\n",
    "    rng = np.random.default_rng(i)\n",
    "    return(rng.choice(Boston.shape[0],Boston.shape[0],replace=True))"
   ]
  },
  {
   "cell_type": "code",
   "execution_count": 127,
   "id": "17bda84e-506e-49b8-8180-8bf00696097f",
   "metadata": {},
   "outputs": [],
   "source": [
    "boot=1000*[0]\n",
    "for i in range(1000):\n",
    "    boot[i]=boot_fn(Boston,indexes_gen(i))"
   ]
  },
  {
   "cell_type": "code",
   "execution_count": 135,
   "id": "cdcce316-70f0-4cf4-8c8d-537828077f9a",
   "metadata": {},
   "outputs": [
    {
     "data": {
      "text/plain": [
       "0.4066033818051004"
      ]
     },
     "execution_count": 135,
     "metadata": {},
     "output_type": "execute_result"
    }
   ],
   "source": [
    "semuhat2=np.sqrt(sum((boot-np.mean(boot))**2)/999) #The results are very similar\n",
    "semuhat2"
   ]
  },
  {
   "cell_type": "code",
   "execution_count": 137,
   "id": "8b5747c6-c5a3-4f87-8855-03fa9f3e1425",
   "metadata": {},
   "outputs": [
    {
     "data": {
      "text/plain": [
       "(21.719599560500477, 23.346013087720877)"
      ]
     },
     "execution_count": 137,
     "metadata": {},
     "output_type": "execute_result"
    }
   ],
   "source": [
    "(muhat-2*semuhat2,muhat+2*semuhat2)"
   ]
  },
  {
   "cell_type": "code",
   "execution_count": null,
   "id": "11eccdb1-6c6e-49e9-ac38-d086ea1de0cf",
   "metadata": {},
   "outputs": [],
   "source": []
  },
  {
   "cell_type": "code",
   "execution_count": 143,
   "id": "bf770df9-a96e-4329-9a0b-3981679fd34b",
   "metadata": {},
   "outputs": [
    {
     "data": {
      "text/plain": [
       "21.2"
      ]
     },
     "execution_count": 143,
     "metadata": {},
     "output_type": "execute_result"
    }
   ],
   "source": [
    "mumedhat=np.median(Boston.medv)\n",
    "mumedhat"
   ]
  },
  {
   "cell_type": "code",
   "execution_count": 144,
   "id": "30dcac04-e14a-4d58-93b2-743a41a8fad8",
   "metadata": {},
   "outputs": [],
   "source": [
    "def boot_fn2(df,idx):\n",
    "    return np.median(Boston.medv[idx])\n",
    "\n",
    "boot=1000*[0]\n",
    "for i in range(1000):\n",
    "    boot[i]=boot_fn2(Boston,indexes_gen(i))"
   ]
  },
  {
   "cell_type": "code",
   "execution_count": 146,
   "id": "e489a3f2-f287-4225-9a3b-85a41c3c03af",
   "metadata": {},
   "outputs": [
    {
     "data": {
      "text/plain": [
       "0.37493315720588377"
      ]
     },
     "execution_count": 146,
     "metadata": {},
     "output_type": "execute_result"
    }
   ],
   "source": [
    "mumedhat2=np.sqrt(sum((boot-np.mean(boot))**2)/999)\n",
    "mumedhat2 #The result is similar to semuhat2"
   ]
  },
  {
   "cell_type": "code",
   "execution_count": null,
   "id": "a397ccb4-9caf-4106-9de5-96e5c7d309bb",
   "metadata": {},
   "outputs": [],
   "source": []
  },
  {
   "cell_type": "code",
   "execution_count": 147,
   "id": "e4c30dd4-e7d5-4602-a5ce-af8f14d6b2ca",
   "metadata": {},
   "outputs": [
    {
     "data": {
      "text/plain": [
       "12.75"
      ]
     },
     "execution_count": 147,
     "metadata": {},
     "output_type": "execute_result"
    }
   ],
   "source": [
    "percent=np.percentile(Boston.medv,10)\n",
    "percent"
   ]
  },
  {
   "cell_type": "code",
   "execution_count": 150,
   "id": "709d80e6-dd50-4550-9e8d-adb88fad9d7c",
   "metadata": {},
   "outputs": [],
   "source": [
    "def boot_fn3(df,idx):\n",
    "    return np.percentile(Boston.medv[idx],10)\n",
    "\n",
    "boot=1000*[0]\n",
    "for i in range(1000):\n",
    "    boot[i]=boot_fn3(Boston,indexes_gen(i))"
   ]
  },
  {
   "cell_type": "code",
   "execution_count": 151,
   "id": "4114921f-71ff-4b5c-a5f7-2629e358e53a",
   "metadata": {},
   "outputs": [
    {
     "data": {
      "text/plain": [
       "0.5209520020966313"
      ]
     },
     "execution_count": 151,
     "metadata": {},
     "output_type": "execute_result"
    }
   ],
   "source": [
    "sepercent=np.sqrt(sum((boot-np.mean(boot))**2)/999)\n",
    "sepercent"
   ]
  },
  {
   "cell_type": "code",
   "execution_count": null,
   "id": "967ce738-b96e-45b5-b040-8b889c50c742",
   "metadata": {},
   "outputs": [],
   "source": []
  }
 ],
 "metadata": {
  "kernelspec": {
   "display_name": "Python 3 (ipykernel)",
   "language": "python",
   "name": "python3"
  },
  "language_info": {
   "codemirror_mode": {
    "name": "ipython",
    "version": 3
   },
   "file_extension": ".py",
   "mimetype": "text/x-python",
   "name": "python",
   "nbconvert_exporter": "python",
   "pygments_lexer": "ipython3",
   "version": "3.11.3"
  }
 },
 "nbformat": 4,
 "nbformat_minor": 5
}
